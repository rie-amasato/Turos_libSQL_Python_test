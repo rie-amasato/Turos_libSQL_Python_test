{
 "cells": [
  {
   "cell_type": "code",
   "execution_count": 2,
   "id": "05bfbad5",
   "metadata": {},
   "outputs": [],
   "source": [
    "import os\n",
    "\n",
    "import libsql_experimental as libsql\n",
    "import dotenv"
   ]
  },
  {
   "cell_type": "code",
   "execution_count": 19,
   "id": "f089573b",
   "metadata": {},
   "outputs": [
    {
     "data": {
      "text/plain": [
       "True"
      ]
     },
     "execution_count": 19,
     "metadata": {},
     "output_type": "execute_result"
    }
   ],
   "source": [
    "dotenv.load_dotenv()"
   ]
  },
  {
   "cell_type": "code",
   "execution_count": 36,
   "id": "e115d66e",
   "metadata": {},
   "outputs": [
    {
     "name": "stdout",
     "output_type": "stream",
     "text": [
      "\u001b[2m2024-03-29T07:06:37.725252Z\u001b[0m \u001b[32m INFO\u001b[0m \u001b[2mlibsql_replication::replicator\u001b[0m\u001b[2m:\u001b[0m Attempting to perform handshake with primary.\n",
      "\u001b[2m2024-03-29T07:06:37.725269Z\u001b[0m \u001b[32m INFO\u001b[0m \u001b[2mlibsql::replication::remote_client\u001b[0m\u001b[2m:\u001b[0m Attempting to perform handshake with primary.\n",
      "\u001b[2m2024-03-29T07:06:38.407588Z\u001b[0m \u001b[32m INFO\u001b[0m \u001b[2mlibsql_replication::replicator\u001b[0m\u001b[2m:\u001b[0m Attempting to perform handshake with primary.\n",
      "\u001b[2m2024-03-29T07:06:38.407599Z\u001b[0m \u001b[32m INFO\u001b[0m \u001b[2mlibsql::replication::remote_client\u001b[0m\u001b[2m:\u001b[0m Attempting to perform handshake with primary.\n",
      "\u001b[2m2024-03-29T07:06:39.426321Z\u001b[0m \u001b[32m INFO\u001b[0m \u001b[2mlibsql_replication::replicator\u001b[0m\u001b[2m:\u001b[0m Attempting to perform handshake with primary.\n",
      "\u001b[2m2024-03-29T07:06:39.426332Z\u001b[0m \u001b[32m INFO\u001b[0m \u001b[2mlibsql::replication::remote_client\u001b[0m\u001b[2m:\u001b[0m Attempting to perform handshake with primary.\n",
      "\u001b[2m2024-03-29T07:06:40.142350Z\u001b[0m \u001b[32m INFO\u001b[0m \u001b[2mlibsql_replication::replicator\u001b[0m\u001b[2m:\u001b[0m Attempting to perform handshake with primary.\n",
      "\u001b[2m2024-03-29T07:06:40.142360Z\u001b[0m \u001b[32m INFO\u001b[0m \u001b[2mlibsql::replication::remote_client\u001b[0m\u001b[2m:\u001b[0m Attempting to perform handshake with primary.\n",
      "\u001b[2m2024-03-29T07:06:41.099646Z\u001b[0m \u001b[32m INFO\u001b[0m \u001b[2mlibsql_replication::replicator\u001b[0m\u001b[2m:\u001b[0m Attempting to perform handshake with primary.\n",
      "\u001b[2m2024-03-29T07:06:41.099657Z\u001b[0m \u001b[32m INFO\u001b[0m \u001b[2mlibsql::replication::remote_client\u001b[0m\u001b[2m:\u001b[0m Attempting to perform handshake with primary.\n",
      "\u001b[2m2024-03-29T07:06:41.813326Z\u001b[0m \u001b[32m INFO\u001b[0m \u001b[2mlibsql_replication::replicator\u001b[0m\u001b[2m:\u001b[0m Attempting to perform handshake with primary.\n",
      "\u001b[2m2024-03-29T07:06:41.813337Z\u001b[0m \u001b[32m INFO\u001b[0m \u001b[2mlibsql::replication::remote_client\u001b[0m\u001b[2m:\u001b[0m Attempting to perform handshake with primary.\n",
      "[(101,), (11,), (11,)]\n"
     ]
    }
   ],
   "source": [
    "url = os.getenv(\"TURSO_DATABASE_URL\")\n",
    "auth_token = os.getenv(\"TURSO_AUTH_TOKEN\")\n",
    "\n",
    "conn = libsql.connect(\"hello.db\", sync_url=url, auth_token=auth_token)\n",
    "conn.sync()\n",
    "\n",
    "conn.execute(\"CREATE TABLE IF NOT EXISTS users (id INTEGER);\")\n",
    "conn.execute(\"INSERT INTO users(id) VALUES (11);\")\n",
    "conn.commit()\n",
    "\n",
    "print(conn.execute(\"select * from users\").fetchall())"
   ]
  },
  {
   "cell_type": "code",
   "execution_count": null,
   "id": "f3ef7156",
   "metadata": {},
   "outputs": [],
   "source": []
  },
  {
   "cell_type": "code",
   "execution_count": null,
   "id": "d1965866",
   "metadata": {},
   "outputs": [],
   "source": [
    "conn = libsql.connect(\"hello.db\", sync_url=url, auth_token=auth_token)\n",
    "conn.sync()\n",
    "\n",
    "print(conn.execute(\"select * from users\").fetchall())"
   ]
  },
  {
   "cell_type": "code",
   "execution_count": null,
   "id": "e75ebff6",
   "metadata": {},
   "outputs": [],
   "source": []
  }
 ],
 "metadata": {
  "kernelspec": {
   "display_name": "Python 3 (ipykernel)",
   "language": "python",
   "name": "python3"
  },
  "language_info": {
   "codemirror_mode": {
    "name": "ipython",
    "version": 3
   },
   "file_extension": ".py",
   "mimetype": "text/x-python",
   "name": "python",
   "nbconvert_exporter": "python",
   "pygments_lexer": "ipython3",
   "version": "3.12.2"
  }
 },
 "nbformat": 4,
 "nbformat_minor": 5
}
